{
 "cells": [
  {
   "cell_type": "code",
   "execution_count": 23,
   "id": "5f7f6fa0",
   "metadata": {},
   "outputs": [
    {
     "name": "stdout",
     "output_type": "stream",
     "text": [
      "enter your grade: 40\n",
      "you have let my people go: E\n"
     ]
    }
   ],
   "source": [
    "grade= float(input(\"enter your grade: \"))\n",
    "\n",
    "if grade>=70:\n",
    "    print(\"you have an excellent: A\")\n",
    "elif grade >=60 and grade <=69:\n",
    "    print(\"very good: B\")\n",
    "elif grade>=50 and grade<=59:\n",
    "    print(\"you have a: C\")\n",
    "elif grade>=45 and grade<=49:\n",
    "    print(\"you have a low: D\")\n",
    "elif grade>=40 and grade<=44:\n",
    "    print(\"you have let my people go: E\")\n",
    "elif grade>=0 and grade<=39:\n",
    "    print(\"you have let a fantanstic: F\")\n"
   ]
  },
  {
   "cell_type": "code",
   "execution_count": 24,
   "id": "b2e4910b",
   "metadata": {},
   "outputs": [
    {
     "name": "stdout",
     "output_type": "stream",
     "text": [
      "enter your grade: 70\n",
      "you have an excellent: A\n"
     ]
    }
   ],
   "source": [
    "grade= float(input(\"enter your grade: \"))\n",
    "\n",
    "if grade>=70:\n",
    "    print(\"you have an excellent: A\")\n",
    "elif grade >=60 and grade <=69:\n",
    "    print(\"very good: B\")\n",
    "elif grade>=50 and grade<=59:\n",
    "    print(\"you have a: C\")\n",
    "elif grade>=45 and grade<=49:\n",
    "    print(\"you have a low: D\")\n",
    "elif grade>=40 and grade<=44:\n",
    "    print(\"you have let my people go: E\")\n",
    "elif grade>=0 and grade<=39:\n",
    "    print(\"you have let a fantanstic: F\")\n",
    "\n"
   ]
  },
  {
   "cell_type": "code",
   "execution_count": 26,
   "id": "60b6f13b",
   "metadata": {},
   "outputs": [
    {
     "name": "stdout",
     "output_type": "stream",
     "text": [
      "enter your grade: 20\n",
      "you have a felicia: F\n"
     ]
    }
   ],
   "source": [
    "grade= float(input(\"enter your grade: \"))\n",
    "\n",
    "if grade>=70:\n",
    "    print(\"you have an excellent: A\")\n",
    "elif grade >=60 and grade <=69:\n",
    "    print(\"very good: B\")\n",
    "elif grade>=50 and grade<=59:\n",
    "    print(\"you have a: C\")\n",
    "elif grade>=45 and grade<=49:\n",
    "    print(\"you have a low: D\")\n",
    "elif grade>=40 and grade<=44:\n",
    "    print(\"you have let my people go: E\")\n",
    "elif grade>=0 and grade<=39:\n",
    "    print(\"you have a felicia: F\")\n"
   ]
  },
  {
   "cell_type": "code",
   "execution_count": 27,
   "id": "63d51da2",
   "metadata": {},
   "outputs": [
    {
     "name": "stdout",
     "output_type": "stream",
     "text": [
      "enter your grade: 69\n",
      "very good: B\n"
     ]
    }
   ],
   "source": [
    "grade= float(input(\"enter your grade: \"))\n",
    "\n",
    "if grade>=70:\n",
    "    print(\"you have an excellent: A\")\n",
    "elif grade >=60 and grade <=69:\n",
    "    print(\"very good: B\")\n",
    "elif grade>=50 and grade<=59:\n",
    "    print(\"you have a: C\")\n",
    "elif grade>=45 and grade<=49:\n",
    "    print(\"you have a low: D\")\n",
    "elif grade>=40 and grade<=44:\n",
    "    print(\"you have let my people go: E\")\n",
    "elif grade>=0 and grade<=39:\n",
    "    print(\"you have let a fantanstic: F\")\n"
   ]
  },
  {
   "cell_type": "code",
   "execution_count": 28,
   "id": "6bef49ae",
   "metadata": {},
   "outputs": [
    {
     "name": "stdout",
     "output_type": "stream",
     "text": [
      "enter your grade 44\n",
      "you have let my people go: E\n"
     ]
    }
   ],
   "source": [
    "grade= float(input(\"enter your grade \") )\n",
    "\n",
    "if grade>=70:\n",
    "    print(\"you have an excellent: A\")\n",
    "elif grade >=60 and grade <=69:\n",
    "    print(\"very good: B\")\n",
    "elif grade>=50 and grade<=59:\n",
    "    print(\"you have a: C\")\n",
    "elif grade>=45 and grade<=49:\n",
    "    print(\"you have a low: D\")\n",
    "elif grade>=40 and grade<=44:\n",
    "    print(\"you have let my people go: E\")\n",
    "elif grade>=0 and grade<=39:\n",
    "    print(\"you have let a fantanstic: F\")\n"
   ]
  },
  {
   "cell_type": "code",
   "execution_count": 29,
   "id": "222a416d",
   "metadata": {},
   "outputs": [
    {
     "name": "stdout",
     "output_type": "stream",
     "text": [
      "enter your grade: 55\n",
      "you have a: C\n"
     ]
    }
   ],
   "source": [
    "grade= float(input(\"enter your grade: \"))\n",
    "\n",
    "if grade>=70:\n",
    "    print(\"you have an excellent: A\")\n",
    "elif grade >=60 and grade <=69:\n",
    "    print(\"very good: B\")\n",
    "elif grade>=50 and grade<=59:\n",
    "    print(\"you have a: C\")\n",
    "elif grade>=45 and grade<=49:\n",
    "    print(\"you have a low: D\")\n",
    "elif grade>=40 and grade<=44:\n",
    "    print(\"you have let my people go: E\")\n",
    "elif grade>=0 and grade<=39:\n",
    "    print(\"you have let a fantanstic: F\")\n"
   ]
  },
  {
   "cell_type": "code",
   "execution_count": 30,
   "id": "4d3a6f0e",
   "metadata": {},
   "outputs": [
    {
     "name": "stdout",
     "output_type": "stream",
     "text": [
      "enter your integer value: 54\n",
      "54 is an even numbers\n"
     ]
    }
   ],
   "source": [
    "number=int(input(\"enter your integer value: \")) \n",
    "if (number%2)==0:\n",
    "    print(f'{number} is an even numbers')\n",
    "else:\n",
    "    print(f'{number} is an odd numbers')\n"
   ]
  },
  {
   "cell_type": "code",
   "execution_count": 31,
   "id": "0e1ec79a",
   "metadata": {},
   "outputs": [
    {
     "name": "stdout",
     "output_type": "stream",
     "text": [
      "enter your integer value 52\n",
      "52 is an even numbers\n"
     ]
    }
   ],
   "source": [
    "number=int(input(\"enter your integer value \") ) \n",
    "if (number%2)==0:\n",
    "    print(f'{number} is an even numbers')\n",
    "else:\n",
    "    print(f'{number} is an odd numbers')\n"
   ]
  },
  {
   "cell_type": "code",
   "execution_count": 32,
   "id": "ee8b7ca2",
   "metadata": {},
   "outputs": [
    {
     "name": "stdout",
     "output_type": "stream",
     "text": [
      "enter your name: mimi kwari\n",
      "enter salary5000000\n",
      "mimi kwari,your bonus is 500000.0\n",
      "your basic salary is5000000.0\n",
      "you are receiving 5500000.0\n"
     ]
    }
   ],
   "source": [
    "name = input(\"enter your name: \")\n",
    "salary= float (input(\"enter salary\"))\n",
    "if name.upper().startswith(\"c\")or name.upper().startswith(\"p\"):\n",
    "    print(f\"{name}, you dont have any bonus,hence you're to receive{salary}\")\n",
    "else:\n",
    "    bonus=0.1*salary\n",
    "    new_salary=salary+bonus\n",
    "    print(f\"{name},your bonus is {bonus}\")\n",
    "    print(f\"your basic salary is{salary}\")\n",
    "    print(f\"you are receiving {new_salary}\")"
   ]
  },
  {
   "cell_type": "code",
   "execution_count": 33,
   "id": "83931ec1",
   "metadata": {},
   "outputs": [
    {
     "name": "stdout",
     "output_type": "stream",
     "text": [
      "enter your name: precious\n",
      "enter salary7000\n",
      "precious,your bonus is 700.0\n",
      "your basic salary is7000.0\n",
      "you are receiving 7700.0\n"
     ]
    }
   ],
   "source": [
    "name = input(\"enter your name: \")\n",
    "salary= float (input(\"enter salary\"))\n",
    "if name.upper().startswith(\"c\")or name.upper().startswith(\"p\"):\n",
    "    print(f\"{name}, you dont have any bonus,hence you're to receive{salary}\")\n",
    "else:\n",
    "    bonus=0.1*salary\n",
    "    new_salary=salary+bonus\n",
    "    print(f\"{name},your bonus is {bonus}\")\n",
    "    print(f\"your basic salary is{salary}\")\n",
    "    print(f\"you are receiving {new_salary}\")"
   ]
  },
  {
   "cell_type": "code",
   "execution_count": 34,
   "id": "9977f8f8",
   "metadata": {},
   "outputs": [
    {
     "name": "stdout",
     "output_type": "stream",
     "text": [
      "enter your name: Precious\n",
      "enter salary80000\n",
      "Precious,your bonus is 8000.0\n",
      "your basic salary is80000.0\n",
      "you are receiving 88000.0\n"
     ]
    }
   ],
   "source": [
    "name = input(\"enter your name: \")\n",
    "salary= float (input(\"enter salary\"))\n",
    "if name.upper().startswith(\"c\")or name.upper().startswith(\"p\"):\n",
    "    print(f\"{name}, you dont have any bonus,hence you're to receive{salary}\")\n",
    "else:\n",
    "    bonus=0.1*salary\n",
    "    new_salary=salary+bonus\n",
    "    print(f\"{name},your bonus is {bonus}\")\n",
    "    print(f\"your basic salary is{salary}\")\n",
    "    print(f\"you are receiving {new_salary}\")"
   ]
  },
  {
   "cell_type": "code",
   "execution_count": 51,
   "id": "dc66b243",
   "metadata": {},
   "outputs": [
    {
     "name": "stdout",
     "output_type": "stream",
     "text": [
      "enter a side 3\n",
      "you have a: Triangle polygon\n"
     ]
    }
   ],
   "source": [
    "polygon= int(input(\"enter a side \") )\n",
    "\n",
    "if polygon==3:\n",
    "    print(\"you have a: Triangle polygon\")\n",
    "elif polygon==4:\n",
    "    print(\"it a: Quadrilateral polygon\")\n",
    "elif polygon==5:\n",
    "    print(\"it a: Pentangon polygon\")\n",
    "elif polygon==6:\n",
    "    print(\"you have a: Hexagon polygon\")\n",
    "elif polygon==7:\n",
    "    print(\"you have a: Heptagon polygon\")\n",
    "elif polygon==8:\n",
    "    print(\"you have an: Octangon polygon\")\n",
    "elif polygon==9:\n",
    "    print(\"you have a: Nonagon polygon\")\n",
    "elif polygon==10:\n",
    "    print(\"you have a: Decagon polygon\")\n",
    "elif polygon==20:\n",
    "    print(\"you have an: Icosagon polygon\")\n",
    "    \n",
    "    \n",
    "    \n",
    "    \n"
   ]
  },
  {
   "cell_type": "code",
   "execution_count": 52,
   "id": "cffedc65",
   "metadata": {},
   "outputs": [
    {
     "name": "stdout",
     "output_type": "stream",
     "text": [
      "enter a side 4\n",
      "it a: Quadrilateral polygon\n"
     ]
    }
   ],
   "source": [
    "\n",
    " polygon= int(input(\"enter a side \") )\n",
    "\n",
    "if polygon==3:\n",
    "    print(\"you have a: Triangle polygon\")\n",
    "elif polygon==4:\n",
    "    print(\"it a: Quadrilateral polygon\")\n",
    "elif polygon==5:\n",
    "    print(\"it a: Pentangon polygon\")\n",
    "elif polygon==6:\n",
    "    print(\"you have a: Hexagon polygon\")\n",
    "elif polygon==7:\n",
    "    print(\"you have a: Heptagon polygon\")\n",
    "elif polygon==8:\n",
    "    print(\"you have an: Octangon polygon\")\n",
    "elif polygon==9:\n",
    "    print(\"you have a: Nonagon polygon\")\n",
    "elif polygon==10:\n",
    "    print(\"you have a: Decagon polygon\")\n",
    "elif polygon==20:\n",
    "    print(\"you have an: Icosagon polygon\")\n",
    "    \n",
    "       \n",
    "    \n"
   ]
  },
  {
   "cell_type": "code",
   "execution_count": 53,
   "id": "04825e3b",
   "metadata": {},
   "outputs": [
    {
     "name": "stdout",
     "output_type": "stream",
     "text": [
      "enter a side 5\n",
      "it a: Pentangon polygon\n"
     ]
    }
   ],
   "source": [
    "polygon= int(input(\"enter a side \") )\n",
    "if polygon==3:\n",
    "    print(\"you have a: Triangle polygon\")\n",
    "elif polygon==4:\n",
    "    print(\"it a: Quadrilateral polygon\")\n",
    "elif polygon==5:\n",
    "    print(\"it a: Pentangon polygon\")\n",
    "elif polygon==6:\n",
    "    print(\"you have a: Hexagon polygon\")\n",
    "elif polygon==7:\n",
    "    print(\"you have a: Heptagon polygon\")\n",
    "elif polygon==8:\n",
    "    print(\"you have an: Octangon polygon\")\n",
    "elif polygon==9:\n",
    "    print(\"you have a: Nonagon polygon\")\n",
    "elif polygon==10:\n",
    "    print(\"you have a: Decagon polygon\")\n",
    "elif polygon==20:\n",
    "    print(\"you have an: Icosagon polygon\")\n",
    "    \n",
    "    \n",
    "    \n"
   ]
  },
  {
   "cell_type": "code",
   "execution_count": 45,
   "id": "514f099a",
   "metadata": {},
   "outputs": [
    {
     "name": "stdout",
     "output_type": "stream",
     "text": [
      "enter a side 6\n",
      "you have a: Hexagon polygon\n"
     ]
    }
   ],
   "source": [
    "polygon= int(input(\"enter a side \") )\n",
    "\n",
    "if polygon==3:\n",
    "    print(\"you have a: Triangle polygon\")\n",
    "elif polygon==4:\n",
    "    print(\"it a: Quadrilateral polygon\")\n",
    "elif polygon==5:\n",
    "    print(\"it a: Pentangon polygon\")\n",
    "elif polygon==6:\n",
    "    print(\"you have a: Hexagon polygon\")\n",
    "elif polygon==7:\n",
    "    print(\"you have a: Heptagon polygon\")\n",
    "elif polygon==8:\n",
    "    print(\"you have an: Octangon polygon\")\n",
    "elif polygon==9:\n",
    "    print(\"you have a: Nonagon polygon\")\n",
    "elif polygon==10:\n",
    "    print(\"you have a: Decagon polygon\")\n",
    "elif polygon==20:\n",
    "    print(\"you have an: Icosagon polygon\")\n",
    "    \n",
    "    \n",
    "    \n"
   ]
  },
  {
   "cell_type": "code",
   "execution_count": 46,
   "id": "c6f07360",
   "metadata": {},
   "outputs": [
    {
     "name": "stdout",
     "output_type": "stream",
     "text": [
      "enter a side 7\n",
      "you have a: Heptagon polygon\n"
     ]
    }
   ],
   "source": [
    "polygon= int(input(\"enter a side \") )\n",
    "\n",
    "if polygon==3:\n",
    "    print(\"you have a: Triangle polygon\")\n",
    "elif polygon==4:\n",
    "    print(\"it a: Quadrilateral polygon\")\n",
    "elif polygon==5:\n",
    "    print(\"it a: Pentangon polygon\")\n",
    "elif polygon==6:\n",
    "    print(\"you have a: Hexagon polygon\")\n",
    "elif polygon==7:\n",
    "    print(\"you have a: Heptagon polygon\")\n",
    "elif polygon==8:\n",
    "    print(\"you have an: Octangon polygon\")\n",
    "elif polygon==9:\n",
    "    print(\"you have a: Nonagon polygon\")\n",
    "elif polygon==10:\n",
    "    print(\"you have a: Decagon polygon\")\n",
    "elif polygon==20:\n",
    "    print(\"you have an: Icosagon polygon\")\n",
    "    \n",
    "    "
   ]
  },
  {
   "cell_type": "code",
   "execution_count": 47,
   "id": "6da87a5f",
   "metadata": {},
   "outputs": [
    {
     "name": "stdout",
     "output_type": "stream",
     "text": [
      "enter a side 8\n",
      "you have an: Octangon polygon\n"
     ]
    }
   ],
   "source": [
    "polygon= int(input(\"enter a side \") )\n",
    "\n",
    "if polygon==3:\n",
    "    print(\"you have a: Triangle polygon\")\n",
    "elif polygon==4:\n",
    "    print(\"it a: Quadrilateral polygon\")\n",
    "elif polygon==5:\n",
    "    print(\"it a: Pentangon polygon\")\n",
    "elif polygon==6:\n",
    "    print(\"you have a: Hexagon polygon\")\n",
    "elif polygon==7:\n",
    "    print(\"you have a: Heptagon polygon\")\n",
    "elif polygon==8:\n",
    "    print(\"you have an: Octangon polygon\")\n",
    "elif polygon==9:\n",
    "    print(\"you have a: Nonagon polygon\")\n",
    "elif polygon==10:\n",
    "    print(\"you have a: Decagon polygon\")\n",
    "elif polygon==20:\n",
    "    print(\"you have an: Icosagon polygon\")\n",
    "    \n",
    "    "
   ]
  },
  {
   "cell_type": "code",
   "execution_count": 48,
   "id": "d999b101",
   "metadata": {},
   "outputs": [
    {
     "name": "stdout",
     "output_type": "stream",
     "text": [
      "enter a side 9\n",
      "you have a: Nonagon polygon\n"
     ]
    }
   ],
   "source": [
    "polygon= int(input(\"enter a side \") )\n",
    "\n",
    "if polygon==3:\n",
    "    print(\"you have a: Triangle polygon\")\n",
    "elif polygon==4:\n",
    "    print(\"it a: Quadrilateral polygon\")\n",
    "elif polygon==5:\n",
    "    print(\"it a: Pentangon polygon\")\n",
    "elif polygon==6:\n",
    "    print(\"you have a: Hexagon polygon\")\n",
    "elif polygon==7:\n",
    "    print(\"you have a: Heptagon polygon\")\n",
    "elif polygon==8:\n",
    "    print(\"you have an: Octangon polygon\")\n",
    "elif polygon==9:\n",
    "    print(\"you have a: Nonagon polygon\")\n",
    "elif polygon==10:\n",
    "    print(\"you have a: Decagon polygon\")\n",
    "elif polygon==20:\n",
    "    print(\"you have an: Icosagon polygon\")\n",
    "    \n",
    "    "
   ]
  },
  {
   "cell_type": "code",
   "execution_count": 49,
   "id": "d7fca453",
   "metadata": {},
   "outputs": [
    {
     "name": "stdout",
     "output_type": "stream",
     "text": [
      "enter a side 10\n",
      "you have a: Decagon polygon\n"
     ]
    }
   ],
   "source": [
    "polygon= int(input(\"enter a side \") )\n",
    "\n",
    "if polygon==3:\n",
    "    print(\"you have a: Triangle polygon\")\n",
    "elif polygon==4:\n",
    "    print(\"it a: Quadrilateral polygon\")\n",
    "elif polygon==5:\n",
    "    print(\"it a: Pentangon polygon\")\n",
    "elif polygon==6:\n",
    "    print(\"you have a: Hexagon polygon\")\n",
    "elif polygon==7:\n",
    "    print(\"you have a: Heptagon polygon\")\n",
    "elif polygon==8:\n",
    "    print(\"you have an: Octangon polygon\")\n",
    "elif polygon==9:\n",
    "    print(\"you have a: Nonagon polygon\")\n",
    "elif polygon==10:\n",
    "    print(\"you have a: Decagon polygon\")\n",
    "elif polygon==20:\n",
    "    print(\"you have an: Icosagon polygon\")\n",
    "    \n",
    "    "
   ]
  },
  {
   "cell_type": "code",
   "execution_count": 50,
   "id": "0f20e61c",
   "metadata": {},
   "outputs": [
    {
     "name": "stdout",
     "output_type": "stream",
     "text": [
      "enter a side 20\n",
      "you have an: Icosagon polygon\n"
     ]
    }
   ],
   "source": [
    "polygon= int(input(\"enter a side \") )\n",
    "\n",
    "if polygon==3:\n",
    "    print(\"you have a: Triangle polygon\")\n",
    "elif polygon==4:\n",
    "    print(\"it a: Quadrilateral polygon\")\n",
    "elif polygon==5:\n",
    "    print(\"it a: Pentangon polygon\")\n",
    "elif polygon==6:\n",
    "    print(\"you have a: Hexagon polygon\")\n",
    "elif polygon==7:\n",
    "    print(\"you have a: Heptagon polygon\")\n",
    "elif polygon==8:\n",
    "    print(\"you have an: Octangon polygon\")\n",
    "elif polygon==9:\n",
    "    print(\"you have a: Nonagon polygon\")\n",
    "elif polygon==10:\n",
    "    print(\"you have a: Decagon polygon\")\n",
    "elif polygon==20:\n",
    "    print(\"you have an: Icosagon polygon\")\n",
    "    \n",
    "    "
   ]
  },
  {
   "cell_type": "code",
   "execution_count": null,
   "id": "43855911",
   "metadata": {},
   "outputs": [],
   "source": []
  }
 ],
 "metadata": {
  "kernelspec": {
   "display_name": "Python 3 (ipykernel)",
   "language": "python",
   "name": "python3"
  },
  "language_info": {
   "codemirror_mode": {
    "name": "ipython",
    "version": 3
   },
   "file_extension": ".py",
   "mimetype": "text/x-python",
   "name": "python",
   "nbconvert_exporter": "python",
   "pygments_lexer": "ipython3",
   "version": "3.10.9"
  }
 },
 "nbformat": 4,
 "nbformat_minor": 5
}
